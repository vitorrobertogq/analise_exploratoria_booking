{
  "metadata": {
    "kernelspec": {
      "name": "python",
      "display_name": "Python (Pyodide)",
      "language": "python"
    },
    "language_info": {
      "codemirror_mode": {
        "name": "ipython",
        "version": 3
      },
      "file_extension": ".py",
      "mimetype": "text/x-python",
      "name": "python",
      "nbconvert_exporter": "python",
      "pygments_lexer": "ipython3",
      "version": "3.9.6"
    }
  },
  "nbformat_minor": 4,
  "nbformat": 4,
  "cells": [
    {
      "cell_type": "markdown",
      "source": "Configuraçao do Ambiente (ferramentas,base de dados,testes)",
      "metadata": {
        "trusted": true
      }
    },
    {
      "cell_type": "code",
      "source": "#Ferramentas utilizadas\nimport pandas as pd #leitura\nimport matplotlib.pyplot as plt #graficos\nimport ast #array em formato de string para formato de array normal\nfrom geopy.geocoders import Nominatim #pegar coordenadas\nimport folium\nfrom unidecode import unidecode\nfrom IPython.display import display\n\n",
      "metadata": {
        "trusted": true
      },
      "execution_count": null,
      "outputs": []
    },
    {
      "cell_type": "code",
      "source": "#Bases de dados importadas\ndados_ratings = pd.read_csv('desafio_ratings.csv',sep=';')\ndados_details = pd.read_csv('desafio_details.csv',sep=';')",
      "metadata": {
        "trusted": true
      },
      "execution_count": null,
      "outputs": []
    },
    {
      "cell_type": "code",
      "source": "#Teste ratings\ndados_ratings.head()",
      "metadata": {
        "trusted": true
      },
      "execution_count": null,
      "outputs": []
    },
    {
      "cell_type": "code",
      "source": "#Teste details\ndados_details.head()",
      "metadata": {
        "trusted": true
      },
      "execution_count": null,
      "outputs": []
    },
    {
      "cell_type": "markdown",
      "source": "Análise 1 - Cidades em ordem crescente de número de listings (anúncio ou oferta de uma propriedade)",
      "metadata": {
        "trusted": true
      }
    },
    {
      "cell_type": "code",
      "source": "#Para isso vamos separar os valores de interesseas duplicações de um mesmo imovel (variados quartos possuem um unico anúncio) \n#e contar quantas vezes uma cidade aparece,o que resulta no número de imoveis por cidade\ndados_listings = dados_details.loc[:,('hotel_id','city_name')].drop_duplicates()\ndados_listings_ordenados = dados_listings['city_name'].value_counts(ascending=True).reset_index()\ndados_listings_ordenados",
      "metadata": {
        "trusted": true
      },
      "execution_count": null,
      "outputs": []
    },
    {
      "cell_type": "markdown",
      "source": "Análise 2- Cidades em ordem decrescente de metros quadrados",
      "metadata": {
        "trusted": true
      }
    },
    {
      "cell_type": "code",
      "source": "#Para isso separar os dados em interesse e depois vamos agrupa-los em cidades e somar todos os m2 por meio da funcao 'sum()'\ndados_m2 = dados_details.loc[:,('city_name','room_surface_in_m2')]\ndados_m2_soma = dados_m2.groupby('city_name').sum().sort_values(by='room_surface_in_m2',ascending=False).reset_index()\ndados_m2_soma",
      "metadata": {
        "trusted": true
      },
      "execution_count": null,
      "outputs": []
    },
    {
      "cell_type": "markdown",
      "source": "Análise 3 - Quais cidades têm mais avaliações?",
      "metadata": {
        "trusted": true
      }
    },
    {
      "cell_type": "code",
      "source": "#Para isso vamos usar 2 dados em tabelas distintas já que eles estão separados em 2 bancos de dados diferentes\n#Vamos usar da desafio_ratings = hotel_id,number_of_ratings e da desafio_details = hotel_id,city_name\n#e concilia-lás para termos um dataFrame que junte as cidades aos números de avaliação\n\ndados_hotel_cidade = dados_details.loc[:,('hotel_id','city_name')].drop_duplicates()\ndados_hotel_cidade",
      "metadata": {
        "trusted": true
      },
      "execution_count": null,
      "outputs": []
    },
    {
      "cell_type": "code",
      "source": "dados_hotel_ratings = dados_ratings.loc[:,('hotel_id','number_of_ratings')]\ndados_hotel_ratings",
      "metadata": {
        "trusted": true
      },
      "execution_count": null,
      "outputs": []
    },
    {
      "cell_type": "code",
      "source": "#Agora juntando as 2 com a função 'pd.merge()' com base no hotel_id e após isso agrupar por cidade e somar tudo pela função 'sum()'\ndados_hotel_cidade_ratings = pd.merge(dados_hotel_cidade,dados_hotel_ratings,on='hotel_id')\ndados_num_avaliacao = dados_hotel_cidade_ratings.loc[:,('city_name','number_of_ratings')].groupby('city_name').sum().sort_values(by='number_of_ratings',ascending=False)\ndados_num_avaliacao",
      "metadata": {
        "trusted": true
      },
      "execution_count": null,
      "outputs": []
    },
    {
      "cell_type": "markdown",
      "source": "Análise 4 - Quais cidades têm a maior média de avaliações? E a menor média?",
      "metadata": {
        "trusted": true
      }
    },
    {
      "cell_type": "code",
      "source": "#Utiliza os dados encontrados anteriomente 'dados_hotel_cidade_ratings',agrupa-os novamente por cidade\n#e em vez de somar tudo,calcula-se a media por meio da funcao 'mean()'\ndados_media_avaliacao = dados_hotel_cidade_ratings.loc[:,('city_name','number_of_ratings')].groupby('city_name').mean().sort_values(by='number_of_ratings',ascending=False)\ndados_media_avaliacao",
      "metadata": {
        "trusted": true
      },
      "execution_count": null,
      "outputs": []
    },
    {
      "cell_type": "markdown",
      "source": "Análise 5 - Existem correlações entre as características de um anúncio e a sua localização?",
      "metadata": {
        "trusted": true
      }
    },
    {
      "cell_type": "code",
      "source": "#Para essa vou verificar essa correlaçao vou analisar uma caracteristica que define demais a experiencia do cliente : tipo de locação",
      "metadata": {
        "trusted": true
      },
      "execution_count": null,
      "outputs": []
    },
    {
      "cell_type": "code",
      "source": "dados_tipo = dados_details.loc[:,('hotel_id','city_name','accommodation_type')].drop_duplicates()\ndados_por_tipo = dados_tipo.loc[:,('city_name','accommodation_type')].value_counts().reset_index()\ndados_por_tipo",
      "metadata": {
        "trusted": true
      },
      "execution_count": null,
      "outputs": []
    },
    {
      "cell_type": "code",
      "source": "# Supondo que seus dados estejam em um DataFrame chamado df\n# Substitua df pelo nome real do seu DataFrame\n\n# Crie um DataFrame com as colunas 'city_name', 'accommodation_type' e 'count'\ndados_por_tipo = dados_por_tipo[['city_name', 'accommodation_type', 'count']].drop_duplicates()\n\n# Crie uma tabela dinâmica para obter a contagem total por tipo de acomodação e cidade\naccommodation_counts = pd.pivot_table(dados_por_tipo, values='count', index='city_name', columns='accommodation_type', fill_value=0)\n\n# Adicione uma coluna indicando se há mais apartamentos do que a soma das outras locações\naccommodation_counts['more_apartments_than_others'] = accommodation_counts['apartment'] > accommodation_counts.drop('apartment', axis=1).sum(axis=1)\n\n# Exiba o resultado\naccommodation_counts.reset_index(inplace=True)\n",
      "metadata": {
        "trusted": true
      },
      "execution_count": null,
      "outputs": []
    },
    {
      "cell_type": "code",
      "source": "#configurar o geolocalizador sem verificação SSL\ngeolocator = Nominatim(user_agent=\"my_geocoder\", ssl_context=None)\n\n#função para mapear a nota para uma cor\ndef map_nota_to_color(tipo):\n    # Usei um gradiente de azul para verde para vermelho\n    if not tipo:\n        return 'blue'\n    else:\n        return 'red'\n\n#função para manipular o nome da cidade\ndef format_city_name(city):\n\n    #remover acentos e converter para minúsculas e adicionando brasil para diminuir erros relativos a localização\n    formatted_city = unidecode(city).lower()+ '-brasil'\n\n    #cidades que não condiziam com a localização encontrada e precisaram de uma ajuda na pesquisa\n    if formatted_city == 'brasilia-brasil':\n        formatted_city = 'brasilia-df-brasil'\n    if formatted_city == 'sao jose-brasil':\n        formatted_city = 'sao jose-sc-brasil'\n\n    return formatted_city\n\n#criar um mapa básico centrado em uma localização do brasil\nmapa = folium.Map(location=[-15.7801, -47.9292], zoom_start=4)\n\n#adicionar marcadores ao mapa\nfor index, row in accommodation_counts.iterrows():\n    #manipular o nome da cidade antes de fazer a pesquisa\n    formatted_city_name = format_city_name(row['city_name'])\n    \n    #obter as coordenadas a partir do nome da cidade\n    location = geolocator.geocode(formatted_city_name, timeout=10)\n\n    #verificar se a localização foi encontrada\n    if location:\n        #mapear a nota para a cor do ícone\n        color = map_nota_to_color(row['more_apartments_than_others'])\n\n        #criar marcador com popup contendo informações e cor ajustada\n        folium.Marker(\n            location=[location.latitude, location.longitude],\n            popup=f\"{row['city_name']}\",\n            icon=folium.Icon(color=color, icon='home')\n        ).add_to(mapa)\n\n#exibir o mapa no notebook\ndisplay(mapa)",
      "metadata": {
        "trusted": true
      },
      "execution_count": null,
      "outputs": []
    },
    {
      "cell_type": "markdown",
      "source": "Análise 6 - Existem relações entre a nota do anúncio e os recursos disponíveis no imóvel?",
      "metadata": {
        "trusted": true
      }
    },
    {
      "cell_type": "code",
      "source": "#Para esse vamos precisar fazer a média de todos os recursos de cada imóvel (já que cada quarto possui recursos diferentes) \n#e com a média de recursos de cada imóvel calcula a relação deles com a nota\n\ndef calcular_tamanho(lista_string):\n    lista = ast.literal_eval(lista_string)\n    return len(lista)\n\nnumeros_de_recursos = dados_details.loc[:,('hotel_id','room_facilities')]\nnumeros_de_recursos['num_of_facilities'] = numeros_de_recursos['room_facilities'].apply(calcular_tamanho)\nnumeros_de_recursos_media = numeros_de_recursos.loc[:,('hotel_id','num_of_facilities')].groupby('hotel_id').mean().reset_index()",
      "metadata": {
        "trusted": true
      },
      "execution_count": null,
      "outputs": []
    },
    {
      "cell_type": "code",
      "source": "#Agora ligar o hotel_id e a nota (apenas hoteis que possuem alguma avaliação)\n\ndados_hotel_nota= dados_ratings.loc[:,('hotel_id','Total')]\ndados_hotel_nota.dropna(inplace=True)\ndados_hotel_nota",
      "metadata": {
        "trusted": true
      },
      "execution_count": null,
      "outputs": []
    },
    {
      "cell_type": "code",
      "source": "#Agora por fim,juntar os 2 dados e calcular sua correlação\n\ndados_recursos_nota = pd.merge(dados_hotel_nota,numeros_de_recursos_media,on='hotel_id')\ncorrelacao = dados_recursos_nota.loc[:,('Total', 'num_of_facilities')].corr()\nprint(correlacao) #0.146964 = fraca",
      "metadata": {
        "trusted": true
      },
      "execution_count": null,
      "outputs": []
    },
    {
      "cell_type": "code",
      "source": "#vamos tentar observar isso de uma maneira mais visual, dividindo os hotel_id pela nota no caso(0-2,2-4,4-6,8-10) e usando a media de recursos como paramentro\n#o que nos leva a uma observação mais clara que essa correlação é fraca de maneira mais visual\n\n#definir as faixas de notas\nfaixas_notas = [0, 2, 4, 6, 8, 10]\n\n#criar uma coluna 'faixa_notas' no DataFrame\ndados_recursos_nota['faixa_notas'] = pd.cut(dados_recursos_nota['Total'], bins=faixas_notas, labels=[f'{i}-{i+2}' for i in range(0, 10, 2)])\n\n#calcular a média de recursos para cada faixa de notas\nmedia_recursos_por_faixa = dados_recursos_nota.groupby('faixa_notas')['num_of_facilities'].mean()\n\n#plotar o gráfico de barras\nmedia_recursos_por_faixa.plot(kind='bar', color='skyblue')\nplt.title('Média de Recursos Normalizada por Faixa de Notas')\nplt.xlabel('Faixa de Notas')\nplt.ylabel('Média de Recursos (normalizada)')\nplt.show()",
      "metadata": {
        "trusted": true
      },
      "execution_count": null,
      "outputs": []
    },
    {
      "cell_type": "code",
      "source": "#E agora testando com recursos especificos('Ar-condicionado')\ndef tem_recurso(lista_string):\n    lista = ast.literal_eval(lista_string)\n    if 'Ar-condicionado'in lista:\n        return True\n    else:\n        return False\n    \ndados_tem_ar = dados_details.loc[:,('hotel_id','room_facilities')]\ndados_tem_ar['tem_ar'] = dados_tem_ar['room_facilities'].apply(tem_recurso)\ndados_tem_ar_media = dados_tem_ar.loc[:,('hotel_id','tem_ar')]\ndados_tem_ar_media.drop_duplicates(inplace=True)\n\ndados_hotel_nota.dropna(inplace=True)\ndados_ar_nota = pd.merge(dados_tem_ar_media,dados_hotel_nota,on='hotel_id')\ndados_ar_nota.loc[:,('tem_ar','Total')].groupby('tem_ar').mean()",
      "metadata": {
        "trusted": true
      },
      "execution_count": null,
      "outputs": []
    },
    {
      "cell_type": "code",
      "source": "#E agora testando com recursos especificos(Vista do mar)\ndef tem_recurso(lista_string):\n    lista = ast.literal_eval(lista_string)\n    if 'Vista do mar'in lista:\n        return True\n    else:\n        return False\n    \ndados_tem_vista = dados_details.loc[:,('hotel_id','room_facilities')]\ndados_tem_vista['tem_vista'] = dados_tem_vista['room_facilities'].apply(tem_recurso)\ndados_tem_vista_media = dados_tem_vista.loc[:,('hotel_id','tem_vista')]\ndados_tem_vista_media.drop_duplicates(inplace=True)\n\ndados_hotel_nota.dropna(inplace=True)\ndados_vista_nota = pd.merge(dados_tem_vista_media,dados_hotel_nota,on='hotel_id')\ndados_vista_nota.loc[:,('tem_vista','Total')].groupby('tem_vista').mean()",
      "metadata": {
        "trusted": true
      },
      "execution_count": null,
      "outputs": []
    },
    {
      "cell_type": "markdown",
      "source": "Análise 7 - Existe alguma relação entre a nota recebida e a localização?",
      "metadata": {
        "trusted": true
      }
    },
    {
      "cell_type": "code",
      "source": "#Para vizualizaçao disso vamos fazer a media de nota de cada cidade e depois disso plotar um mapa\n\ndados_hotel_nota = dados_ratings.loc[:,('hotel_id','Total')]\ndados_nota_cidade = pd.merge(dados_hotel_nota,dados_hotel_cidade,on='hotel_id')\ndados_nota_media_por_cidade = dados_nota_cidade.loc[:,('city_name','Total')].groupby('city_name').mean().reset_index()\ndados_nota_media_por_cidade.dropna(inplace=True)\ndados_nota_media_por_cidade\n",
      "metadata": {
        "trusted": true
      },
      "execution_count": null,
      "outputs": []
    },
    {
      "cell_type": "code",
      "source": "#configurar o geolocalizador sem verificação SSL\ngeolocator = Nominatim(user_agent=\"my_geocoder\", ssl_context=None)\n\n#função para mapear a nota para uma cor\ndef map_nota_to_color(nota):\n    if 0 <= nota < 3:\n        return 'red'\n    elif 3 <= nota < 7:\n        return 'orange'\n    elif 7 <= nota < 9:\n        return 'green'\n    else:\n        return 'purple'\n\n#criar um mapa básico centrado em uma localização do brasil\nmapa = folium.Map(location=[-15.7801, -47.9292], zoom_start=4)\n\n#adicionar marcadores ao mapa\nfor index, row in dados_nota_media_por_cidade.iterrows():\n    #manipular o nome da cidade antes de fazer a pesquisa\n    formatted_city_name = format_city_name(row['city_name'])\n    \n    #obter as coordenadas a partir do nome da cidade\n    location = geolocator.geocode(formatted_city_name, timeout=10)\n\n    #verificar se a localização foi encontrada\n    if location:\n        # Mapear a nota para a cor do ícone\n        color = map_nota_to_color(row['Total'])\n\n        #criar marcador com popup contendo informações e cor ajustada\n        folium.Marker(\n            location=[location.latitude, location.longitude],\n            popup=f\"{row['city_name']}: {row['Total']}\",\n            icon=folium.Icon(color=color, icon='home')\n        ).add_to(mapa)\n\n#exibir o mapa no notebook\ndisplay(mapa)",
      "metadata": {
        "trusted": true
      },
      "execution_count": null,
      "outputs": []
    },
    {
      "cell_type": "markdown",
      "source": "Análise 8 - Conclusão sobre as notas dos imóveis",
      "metadata": {
        "trusted": true
      }
    },
    {
      "cell_type": "markdown",
      "source": "- De acordo com as analises anteriores podemos inferir:\n\n- Imovéis localizados em cidades que possuem praia costumam fazer mais sucesso entre os demais.\n\n- A quantidade de recursos disponiveis não necessariamente impacta sobre a nota,o que impacta de verdade é a qualidade e experiencia que o cliente vivenciouao utilizar algum desses recursos. \n\n- Imovéis localizados em cidades que possuem praia costumam fazer mais sucesso entre os demais. \n\n- A localização do imóvel importa muito na sua avaliação, já que também faz parte da experiencia do cliente.",
      "metadata": {
        "trusted": true
      }
    },
    {
      "cell_type": "markdown",
      "source": "Análise 9 - Anúncios críticos",
      "metadata": {
        "trusted": true
      }
    },
    {
      "cell_type": "markdown",
      "source": "- Todos os anúncios sem avaliação : anúncios sem avaliação deixam o cliente com um certo receio de ir para aquele local, já que ele não possui nenhuma referência daquele hotel.\n\n- Anúncios com poucas avaliações e notas abaixo de 7: ainda com o mesmo motivo da passada, só que em uma situação mais complicada, porque além de possuir poucas opiniões, eles ainda são negativas,o que causa total receio por parte do cliente. \n",
      "metadata": {
        "trusted": true
      }
    }
  ]
}